{
 "cells": [
  {
   "cell_type": "markdown",
   "id": "9ceeede3-fa7c-42da-a9c4-4c7558c62cbd",
   "metadata": {
    "tags": []
   },
   "source": [
    "# Preprocessing Functions\n"
   ]
  },
  {
   "cell_type": "markdown",
   "id": "0240bbf7-af35-4e65-9633-94ff9bd61b98",
   "metadata": {
    "jp-MarkdownHeadingCollapsed": true,
    "tags": []
   },
   "source": [
    "## Constant Variables\n"
   ]
  },
  {
   "cell_type": "code",
   "execution_count": 21,
   "id": "839c646d-9f57-4b9f-9103-8d751233b287",
   "metadata": {},
   "outputs": [],
   "source": [
    "punc = r'''!()[]{};:\"\\,<>./?@#$%^&*_~«»”—“…'''\n",
    "authors = ['Ataol Behramoğlu', 'Attila İlhan', 'Cahit Sıtkı Tarancı', 'Cahit Zarifoğlu',\n",
    " 'Can Yücel', 'Cemal Safi', 'Cemal Süreya', 'Edip Cansever',\n",
    " 'Mehmet Akif Ersoy', 'Nazım Hikmet Ran', 'Necip Fazıl Kısakürek',\n",
    " 'Orhan Veli Kanık', 'Turgut Uyar', 'Özdemir Asaf', 'Ümit Yaşar Oğuzcan']\n",
    "\n",
    "max_length = 30"
   ]
  },
  {
   "cell_type": "markdown",
   "id": "f967bf57-ba2d-4441-868a-54afb86ea042",
   "metadata": {
    "jp-MarkdownHeadingCollapsed": true,
    "tags": []
   },
   "source": [
    "## Functions\n"
   ]
  },
  {
   "cell_type": "code",
   "execution_count": 22,
   "id": "13f6b49e-9c44-4afe-89b8-7a1b29ecbca5",
   "metadata": {},
   "outputs": [],
   "source": [
    "def location_to_text(element):\n",
    "    f = open(element, \"r\", encoding=\"utf-8\")\n",
    "    return f.read()"
   ]
  },
  {
   "cell_type": "code",
   "execution_count": 23,
   "id": "371e59ec-abc1-43fc-b3c2-090732b8bd0b",
   "metadata": {},
   "outputs": [],
   "source": [
    "def remove_punctuation(element):\n",
    "    for ele in element:\n",
    "        if ele in punc:\n",
    "            element = element.replace(ele, \" \")\n",
    "    return element"
   ]
  },
  {
   "cell_type": "code",
   "execution_count": 24,
   "id": "5791e7c8-d088-4956-b161-1b5ec821bb59",
   "metadata": {},
   "outputs": [],
   "source": [
    "def to_lower(element):\n",
    "   return element.lower()"
   ]
  },
  {
   "cell_type": "code",
   "execution_count": 25,
   "id": "ce5dc194-4997-4006-802f-93c2f5c33ffa",
   "metadata": {},
   "outputs": [],
   "source": [
    "def remove_digits(element):\n",
    "    for ele in element:\n",
    "        if ele.isdigit():\n",
    "            element.replace(ele,\"\")\n",
    "    return element"
   ]
  },
  {
   "cell_type": "code",
   "execution_count": 26,
   "id": "09744840-be76-4037-b3b0-548c20198539",
   "metadata": {},
   "outputs": [],
   "source": [
    "def encode_labels(element):\n",
    "    return authors.index(element)"
   ]
  },
  {
   "cell_type": "code",
   "execution_count": 27,
   "id": "e45a9199",
   "metadata": {},
   "outputs": [],
   "source": [
    "def tokenize(element):\n",
    "    return tokenizer(element,truncation=True,padding=\"max_length\", max_length=512)"
   ]
  },
  {
   "cell_type": "markdown",
   "id": "982ff0b7-cf9c-46ee-b27d-e15164aca155",
   "metadata": {},
   "source": [
    "# Main"
   ]
  },
  {
   "cell_type": "code",
   "execution_count": 28,
   "id": "5928a001-80ce-4ee0-b935-9072bb555d61",
   "metadata": {},
   "outputs": [],
   "source": [
    "#Imports\n",
    "\n",
    "import numpy as np\n",
    "import pandas as pd\n",
    "from matplotlib import pyplot as plt\n",
    "from sklearn.model_selection import train_test_split\n",
    "from IPython.display import clear_output\n",
    "from transformers import BertForSequenceClassification,BertTokenizer,Trainer,TrainingArguments,DataCollatorWithPadding\n",
    "import torch\n",
    "from datasets import load_metric\n",
    "from datasets import Dataset, load_dataset\n",
    "import ast\n",
    "import transformers\n"
   ]
  },
  {
   "cell_type": "code",
   "execution_count": 29,
   "id": "5734d1ef",
   "metadata": {},
   "outputs": [],
   "source": [
    "tokenizer = BertTokenizer.from_pretrained(\"bert-base-multilingual-cased\")"
   ]
  },
  {
   "cell_type": "code",
   "execution_count": 30,
   "id": "eace7b7a-83df-4ea9-a75f-bfb56f459c37",
   "metadata": {},
   "outputs": [
    {
     "data": {
      "image/png": "[encoded data removed]",
      "text/plain": [
       "<Figure size 432x288 with 1 Axes>"
      ]
     },
     "metadata": {
      "needs_background": "light"
     },
     "output_type": "display_data"
    }
   ],
   "source": [
    "fig, ax = plt.subplots()"
   ]
  },
  {
   "cell_type": "code",
   "execution_count": 31,
   "id": "82dd8cb8-03c7-4967-b76c-2e1d6d649b4b",
   "metadata": {},
   "outputs": [],
   "source": [
    "#Dataset Import\n",
    "\n",
    "dataset = pd.read_csv(\"./Poems.csv\", sep=\",\")"
   ]
  },
  {
   "cell_type": "code",
   "execution_count": 32,
   "id": "9fdb73e4-1aec-4ec2-90f9-9332e7ad48b1",
   "metadata": {},
   "outputs": [],
   "source": [
    "X = dataset.copy()"
   ]
  },
  {
   "cell_type": "code",
   "execution_count": 33,
   "id": "5ffd870f-bbed-4806-ba05-b63a856cf4d5",
   "metadata": {},
   "outputs": [
    {
     "data": {
      "text/html": [
       "<div>\n",
       "<style scoped>\n",
       "    .dataframe tbody tr th:only-of-type {\n",
       "        vertical-align: middle;\n",
       "    }\n",
       "\n",
       "    .dataframe tbody tr th {\n",
       "        vertical-align: top;\n",
       "    }\n",
       "\n",
       "    .dataframe thead th {\n",
       "        text-align: right;\n",
       "    }\n",
       "</style>\n",
       "<table border=\"1\" class=\"dataframe\">\n",
       "  <thead>\n",
       "    <tr style=\"text-align: right;\">\n",
       "      <th></th>\n",
       "      <th>Location</th>\n",
       "    </tr>\n",
       "  </thead>\n",
       "  <tbody>\n",
       "    <tr>\n",
       "      <th>0</th>\n",
       "      <td>yaşadıklarımdan öğrendiğim bir şey var \\nyaşad...</td>\n",
       "    </tr>\n",
       "    <tr>\n",
       "      <th>1</th>\n",
       "      <td>bu aşk burada biter ve ben çekip giderim\\nyüre...</td>\n",
       "    </tr>\n",
       "    <tr>\n",
       "      <th>2</th>\n",
       "      <td>ben ölürsem akşamüstü ölürüm\\nşehre simsiyah b...</td>\n",
       "    </tr>\n",
       "    <tr>\n",
       "      <th>3</th>\n",
       "      <td>anne diyemeyecegim artık bir başkasına \\nsesim...</td>\n",
       "    </tr>\n",
       "    <tr>\n",
       "      <th>4</th>\n",
       "      <td>hayatın hızıyla yaşadık o aşkı\\nher şey bir an...</td>\n",
       "    </tr>\n",
       "    <tr>\n",
       "      <th>...</th>\n",
       "      <td>...</td>\n",
       "    </tr>\n",
       "    <tr>\n",
       "      <th>2799</th>\n",
       "      <td>i̇ç gıcıklayıcı şarkılar gelir pencerelerden\\n...</td>\n",
       "    </tr>\n",
       "    <tr>\n",
       "      <th>2800</th>\n",
       "      <td>gitgide alışıyorum sana  \\n\\nhiçbir alışkanlık...</td>\n",
       "    </tr>\n",
       "    <tr>\n",
       "      <th>2801</th>\n",
       "      <td>mustafa kemal'i düşünüyorum \\nyeleleri alevden...</td>\n",
       "    </tr>\n",
       "    <tr>\n",
       "      <th>2802</th>\n",
       "      <td>böyledir akşamları i̇stanbul'un\\nbir efkâr bas...</td>\n",
       "    </tr>\n",
       "    <tr>\n",
       "      <th>2803</th>\n",
       "      <td>değişir rüzgarın yönü \\nsolar ansızın yaprakla...</td>\n",
       "    </tr>\n",
       "  </tbody>\n",
       "</table>\n",
       "<p>2804 rows × 1 columns</p>\n",
       "</div>"
      ],
      "text/plain": [
       "                                               Location\n",
       "0     yaşadıklarımdan öğrendiğim bir şey var \\nyaşad...\n",
       "1     bu aşk burada biter ve ben çekip giderim\\nyüre...\n",
       "2     ben ölürsem akşamüstü ölürüm\\nşehre simsiyah b...\n",
       "3     anne diyemeyecegim artık bir başkasına \\nsesim...\n",
       "4     hayatın hızıyla yaşadık o aşkı\\nher şey bir an...\n",
       "...                                                 ...\n",
       "2799  i̇ç gıcıklayıcı şarkılar gelir pencerelerden\\n...\n",
       "2800  gitgide alışıyorum sana  \\n\\nhiçbir alışkanlık...\n",
       "2801  mustafa kemal'i düşünüyorum \\nyeleleri alevden...\n",
       "2802  böyledir akşamları i̇stanbul'un\\nbir efkâr bas...\n",
       "2803  değişir rüzgarın yönü \\nsolar ansızın yaprakla...\n",
       "\n",
       "[2804 rows x 1 columns]"
      ]
     },
     "execution_count": 33,
     "metadata": {},
     "output_type": "execute_result"
    }
   ],
   "source": [
    "#Preprocessing\n",
    "\n",
    "\n",
    "X[\"Location\"] = X[\"Location\"].apply(location_to_text).apply(remove_punctuation).apply(to_lower).apply(remove_digits)\n",
    "X_copy = X.copy()\n",
    "y_copy = X_copy.pop(\"Author\")\n",
    "X.rename(columns={\"Location\": \"Poem\"}, inplace=True)\n",
    "X_copy\n"
   ]
  },
  {
   "cell_type": "code",
   "execution_count": 34,
   "id": "6d4b036c",
   "metadata": {},
   "outputs": [
    {
     "data": {
      "text/html": [
       "<div>\n",
       "<style scoped>\n",
       "    .dataframe tbody tr th:only-of-type {\n",
       "        vertical-align: middle;\n",
       "    }\n",
       "\n",
       "    .dataframe tbody tr th {\n",
       "        vertical-align: top;\n",
       "    }\n",
       "\n",
       "    .dataframe thead th {\n",
       "        text-align: right;\n",
       "    }\n",
       "</style>\n",
       "<table border=\"1\" class=\"dataframe\">\n",
       "  <thead>\n",
       "    <tr style=\"text-align: right;\">\n",
       "      <th></th>\n",
       "      <th>Location</th>\n",
       "    </tr>\n",
       "  </thead>\n",
       "  <tbody>\n",
       "    <tr>\n",
       "      <th>0</th>\n",
       "      <td>yaşadıklarımdan öğrendiğim bir şey var \\nyaşad...</td>\n",
       "    </tr>\n",
       "    <tr>\n",
       "      <th>1</th>\n",
       "      <td>bu aşk burada biter ve ben çekip giderim\\nyüre...</td>\n",
       "    </tr>\n",
       "    <tr>\n",
       "      <th>2</th>\n",
       "      <td>ben ölürsem akşamüstü ölürüm\\nşehre simsiyah b...</td>\n",
       "    </tr>\n",
       "    <tr>\n",
       "      <th>3</th>\n",
       "      <td>anne diyemeyecegim artık bir başkasına \\nsesim...</td>\n",
       "    </tr>\n",
       "    <tr>\n",
       "      <th>4</th>\n",
       "      <td>hayatın hızıyla yaşadık o aşkı\\nher şey bir an...</td>\n",
       "    </tr>\n",
       "    <tr>\n",
       "      <th>...</th>\n",
       "      <td>...</td>\n",
       "    </tr>\n",
       "    <tr>\n",
       "      <th>2799</th>\n",
       "      <td>i̇ç gıcıklayıcı şarkılar gelir pencerelerden\\n...</td>\n",
       "    </tr>\n",
       "    <tr>\n",
       "      <th>2800</th>\n",
       "      <td>gitgide alışıyorum sana  \\n\\nhiçbir alışkanlık...</td>\n",
       "    </tr>\n",
       "    <tr>\n",
       "      <th>2801</th>\n",
       "      <td>mustafa kemal'i düşünüyorum \\nyeleleri alevden...</td>\n",
       "    </tr>\n",
       "    <tr>\n",
       "      <th>2802</th>\n",
       "      <td>böyledir akşamları i̇stanbul'un\\nbir efkâr bas...</td>\n",
       "    </tr>\n",
       "    <tr>\n",
       "      <th>2803</th>\n",
       "      <td>değişir rüzgarın yönü \\nsolar ansızın yaprakla...</td>\n",
       "    </tr>\n",
       "  </tbody>\n",
       "</table>\n",
       "<p>2804 rows × 1 columns</p>\n",
       "</div>"
      ],
      "text/plain": [
       "                                               Location\n",
       "0     yaşadıklarımdan öğrendiğim bir şey var \\nyaşad...\n",
       "1     bu aşk burada biter ve ben çekip giderim\\nyüre...\n",
       "2     ben ölürsem akşamüstü ölürüm\\nşehre simsiyah b...\n",
       "3     anne diyemeyecegim artık bir başkasına \\nsesim...\n",
       "4     hayatın hızıyla yaşadık o aşkı\\nher şey bir an...\n",
       "...                                                 ...\n",
       "2799  i̇ç gıcıklayıcı şarkılar gelir pencerelerden\\n...\n",
       "2800  gitgide alışıyorum sana  \\n\\nhiçbir alışkanlık...\n",
       "2801  mustafa kemal'i düşünüyorum \\nyeleleri alevden...\n",
       "2802  böyledir akşamları i̇stanbul'un\\nbir efkâr bas...\n",
       "2803  değişir rüzgarın yönü \\nsolar ansızın yaprakla...\n",
       "\n",
       "[2804 rows x 1 columns]"
      ]
     },
     "execution_count": 34,
     "metadata": {},
     "output_type": "execute_result"
    }
   ],
   "source": [
    "poem = []\n",
    "author = []\n",
    "i = 0\n",
    "for element in X[\"Poem\"]:\n",
    "    for line in element.split(\"\\n\"):\n",
    "        if not (line.isspace() or len(line)==0):\n",
    "            author.append(X[\"Author\"][i])\n",
    "            poem.append(line)\n",
    "    i += 1\n",
    "\n",
    "\n",
    "data = {}\n",
    "data[\"Poem\"] = poem\n",
    "data[\"Author\"] = author\n",
    "X = pd.DataFrame(data=data)\n",
    "X_copy"
   ]
  },
  {
   "cell_type": "code",
   "execution_count": 35,
   "id": "9a392d9e-13f5-4187-ad09-316d474c2bc0",
   "metadata": {},
   "outputs": [],
   "source": [
    "y = X.pop(\"Author\")\n",
    "y = y.apply(encode_labels)"
   ]
  },
  {
   "cell_type": "code",
   "execution_count": 36,
   "id": "7d3e318e-80d4-4ba6-9646-d1880954e977",
   "metadata": {},
   "outputs": [
    {
     "data": {
      "image/png": "[encoded data removed]",
      "text/plain": [
       "<Figure size 1080x504 with 1 Axes>"
      ]
     },
     "metadata": {
      "needs_background": "light"
     },
     "output_type": "display_data"
    }
   ],
   "source": [
    "courses = authors\n",
    "values = dataset.groupby([\"Author\"]).count()[\"Location\"]\n",
    "  \n",
    "fig = plt.figure(figsize = (15, 7))\n",
    " \n",
    "# creating the bar plot\n",
    "plt.bar(authors, dataset.groupby([\"Author\"]).count()[\"Location\"], color ='maroon',\n",
    "        width = 0.4)\n",
    "plt.xticks(rotation = 30)\n",
    " \n",
    "plt.xlabel(\"Poets\")\n",
    "plt.ylabel(\"Poem Counts\")\n",
    "plt.show()"
   ]
  },
  {
   "cell_type": "code",
   "execution_count": 37,
   "id": "16db8de2",
   "metadata": {},
   "outputs": [],
   "source": [
    "X_train,X_test,y_train,y_test = train_test_split(X[\"Poem\"].map(tokenize),y,random_state=100, test_size=0.2)\n",
    "train_dataset = pd.concat([X_train,y_train],axis=1)\n",
    "test_dataset = pd.concat([X_test,y_test],axis=1)\n"
   ]
  },
  {
   "cell_type": "code",
   "execution_count": 40,
   "id": "803a1146",
   "metadata": {},
   "outputs": [
    {
     "data": {
      "text/plain": [
       "42991    [input_ids, token_type_ids, attention_mask]\n",
       "36969    [input_ids, token_type_ids, attention_mask]\n",
       "41514    [input_ids, token_type_ids, attention_mask]\n",
       "46511    [input_ids, token_type_ids, attention_mask]\n",
       "51455    [input_ids, token_type_ids, attention_mask]\n",
       "                            ...                     \n",
       "16304    [input_ids, token_type_ids, attention_mask]\n",
       "79       [input_ids, token_type_ids, attention_mask]\n",
       "12119    [input_ids, token_type_ids, attention_mask]\n",
       "14147    [input_ids, token_type_ids, attention_mask]\n",
       "38408    [input_ids, token_type_ids, attention_mask]\n",
       "Name: Poem, Length: 41344, dtype: object"
      ]
     },
     "execution_count": 40,
     "metadata": {},
     "output_type": "execute_result"
    }
   ],
   "source": [
    "train_dataset[\"Poem\"]"
   ]
  },
  {
   "cell_type": "code",
   "execution_count": 43,
   "id": "e2bbe394",
   "metadata": {},
   "outputs": [
    {
     "name": "stderr",
     "output_type": "stream",
     "text": [
      "E:\\Anaconda\\lib\\site-packages\\pandas\\core\\indexing.py:1732: SettingWithCopyWarning: \n",
      "A value is trying to be set on a copy of a slice from a DataFrame\n",
      "\n",
      "See the caveats in the documentation: https://pandas.pydata.org/pandas-docs/stable/user_guide/indexing.html#returning-a-view-versus-a-copy\n",
      "  self._setitem_single_block(indexer, value, name)\n"
     ]
    }
   ],
   "source": [
    "train_dataset[\"input_ids\"] = \"\"\n",
    "train_dataset[\"token_type_ids\"] = \"\"\n",
    "train_dataset[\"attention_mask\"] = \"\"\n",
    "\n",
    "\n",
    "\n",
    "for column in [\"input_ids\", \"token_type_ids\", \"attention_mask\"]:\n",
    "    for i in range(0,len(train_dataset[column])):\n",
    "       train_dataset[column].iloc[i] = train_dataset[\"Poem\"].iloc[i][column]\n",
    "\n",
    "\n",
    "\n",
    "\n",
    "\n",
    "\n"
   ]
  },
  {
   "cell_type": "code",
   "execution_count": 45,
   "id": "9a60960f",
   "metadata": {},
   "outputs": [
    {
     "name": "stderr",
     "output_type": "stream",
     "text": [
      "E:\\Anaconda\\lib\\site-packages\\pandas\\core\\indexing.py:1732: SettingWithCopyWarning: \n",
      "A value is trying to be set on a copy of a slice from a DataFrame\n",
      "\n",
      "See the caveats in the documentation: https://pandas.pydata.org/pandas-docs/stable/user_guide/indexing.html#returning-a-view-versus-a-copy\n",
      "  self._setitem_single_block(indexer, value, name)\n"
     ]
    }
   ],
   "source": [
    "test_dataset[\"input_ids\"] = \"\"\n",
    "test_dataset[\"token_type_ids\"] = \"\"\n",
    "test_dataset[\"attention_mask\"] = \"\"\n",
    "\n",
    "for column in [\"input_ids\", \"token_type_ids\", \"attention_mask\"]:\n",
    "    for i in range(0,len(test_dataset[column])):\n",
    "        test_dataset[column].iloc[i] = test_dataset[\"Poem\"].iloc[i][column]"
   ]
  },
  {
   "cell_type": "code",
   "execution_count": null,
   "id": "914dafac",
   "metadata": {},
   "outputs": [],
   "source": [
    "train_dataset[\"label\"] = train_dataset[\"Author\"]\n",
    "train_dataset.drop([\"Poem\",\"Author\"],axis=1,inplace=True)"
   ]
  },
  {
   "cell_type": "code",
   "execution_count": null,
   "id": "c5dfb87e",
   "metadata": {},
   "outputs": [],
   "source": [
    "test_dataset[\"label\"] = test_dataset[\"Author\"]\n",
    "test_dataset.drop([\"Poem\",\"Author\"],axis=1,inplace=True)"
   ]
  },
  {
   "cell_type": "code",
   "execution_count": null,
   "id": "4582ffdd",
   "metadata": {},
   "outputs": [],
   "source": [
    "train_dataset.to_csv(\"./train_dataset.csv\",sep=\";\",index=False)\n",
    "test_dataset.to_csv(\"./test_dataset.csv\",sep=\";\",index=False)"
   ]
  }
 ],
 "metadata": {
  "interpreter": {
   "hash": "96eb50e1d44aed467dc8f759cb08c32fbfa9babcf79c554e2d0e5feb04653a10"
  },
  "kernelspec": {
   "display_name": "Python 3 (ipykernel)",
   "language": "python",
   "name": "python3"
  },
  "language_info": {
   "codemirror_mode": {
    "name": "ipython",
    "version": 3
   },
   "file_extension": ".py",
   "mimetype": "text/x-python",
   "name": "python",
   "nbconvert_exporter": "python",
   "pygments_lexer": "ipython3",
   "version": "3.9.7"
  }
 },
 "nbformat": 4,
 "nbformat_minor": 5
}
